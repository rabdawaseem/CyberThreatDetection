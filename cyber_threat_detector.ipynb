{
 "cells": [
  {
   "cell_type": "code",
   "execution_count": 1,
   "metadata": {},
   "outputs": [
    {
     "name": "stdout",
     "output_type": "stream",
     "text": [
      "Number of GPU:  1\n",
      "GPU Name:  Quadro P1000\n",
      "Using device: cuda\n"
     ]
    }
   ],
   "source": [
    "import torch \n",
    "\n",
    "print(\"Number of GPU: \", torch.cuda.device_count())\n",
    "print(\"GPU Name: \", torch.cuda.get_device_name())\n",
    "\n",
    "\n",
    "device = torch.device('cuda' if torch.cuda.is_available() else 'cpu')\n",
    "print('Using device:', device)"
   ]
  },
  {
   "cell_type": "code",
   "execution_count": 6,
   "metadata": {},
   "outputs": [],
   "source": [
    "# Import required libraries\n",
    "import pandas as pd\n",
    "from sklearn.preprocessing import StandardScaler\n",
    "import torch\n",
    "import torch.nn as nn\n",
    "import torch.nn.functional as functional\n",
    "from torch.utils.data import DataLoader, TensorDataset\n",
    "import torch.optim as optim\n",
    "from torchmetrics import Accuracy\n",
    "# from sklearn.metrics import accuracy_score  # uncomment to use sklearn"
   ]
  },
  {
   "cell_type": "code",
   "execution_count": 7,
   "metadata": {},
   "outputs": [
    {
     "data": {
      "text/html": [
       "<div>\n",
       "<style scoped>\n",
       "    .dataframe tbody tr th:only-of-type {\n",
       "        vertical-align: middle;\n",
       "    }\n",
       "\n",
       "    .dataframe tbody tr th {\n",
       "        vertical-align: top;\n",
       "    }\n",
       "\n",
       "    .dataframe thead th {\n",
       "        text-align: right;\n",
       "    }\n",
       "</style>\n",
       "<table border=\"1\" class=\"dataframe\">\n",
       "  <thead>\n",
       "    <tr style=\"text-align: right;\">\n",
       "      <th></th>\n",
       "      <th>processId</th>\n",
       "      <th>threadId</th>\n",
       "      <th>parentProcessId</th>\n",
       "      <th>userId</th>\n",
       "      <th>mountNamespace</th>\n",
       "      <th>argsNum</th>\n",
       "      <th>returnValue</th>\n",
       "      <th>sus_label</th>\n",
       "    </tr>\n",
       "  </thead>\n",
       "  <tbody>\n",
       "    <tr>\n",
       "      <th>0</th>\n",
       "      <td>381</td>\n",
       "      <td>7337</td>\n",
       "      <td>1</td>\n",
       "      <td>100</td>\n",
       "      <td>4026532231</td>\n",
       "      <td>5</td>\n",
       "      <td>0</td>\n",
       "      <td>1</td>\n",
       "    </tr>\n",
       "    <tr>\n",
       "      <th>1</th>\n",
       "      <td>381</td>\n",
       "      <td>7337</td>\n",
       "      <td>1</td>\n",
       "      <td>100</td>\n",
       "      <td>4026532231</td>\n",
       "      <td>1</td>\n",
       "      <td>0</td>\n",
       "      <td>1</td>\n",
       "    </tr>\n",
       "    <tr>\n",
       "      <th>2</th>\n",
       "      <td>381</td>\n",
       "      <td>7337</td>\n",
       "      <td>1</td>\n",
       "      <td>100</td>\n",
       "      <td>4026532231</td>\n",
       "      <td>0</td>\n",
       "      <td>0</td>\n",
       "      <td>1</td>\n",
       "    </tr>\n",
       "    <tr>\n",
       "      <th>3</th>\n",
       "      <td>7347</td>\n",
       "      <td>7347</td>\n",
       "      <td>7341</td>\n",
       "      <td>0</td>\n",
       "      <td>4026531840</td>\n",
       "      <td>2</td>\n",
       "      <td>-2</td>\n",
       "      <td>1</td>\n",
       "    </tr>\n",
       "    <tr>\n",
       "      <th>4</th>\n",
       "      <td>7347</td>\n",
       "      <td>7347</td>\n",
       "      <td>7341</td>\n",
       "      <td>0</td>\n",
       "      <td>4026531840</td>\n",
       "      <td>4</td>\n",
       "      <td>0</td>\n",
       "      <td>1</td>\n",
       "    </tr>\n",
       "  </tbody>\n",
       "</table>\n",
       "</div>"
      ],
      "text/plain": [
       "   processId  threadId  parentProcessId  userId  mountNamespace  argsNum  \\\n",
       "0        381      7337                1     100      4026532231        5   \n",
       "1        381      7337                1     100      4026532231        1   \n",
       "2        381      7337                1     100      4026532231        0   \n",
       "3       7347      7347             7341       0      4026531840        2   \n",
       "4       7347      7347             7341       0      4026531840        4   \n",
       "\n",
       "   returnValue  sus_label  \n",
       "0            0          1  \n",
       "1            0          1  \n",
       "2            0          1  \n",
       "3           -2          1  \n",
       "4            0          1  "
      ]
     },
     "execution_count": 7,
     "metadata": {},
     "output_type": "execute_result"
    }
   ],
   "source": [
    "# Load preprocessed data\n",
    "train_df = pd.read_csv('dataset/labelled_train.csv')\n",
    "test_df = pd.read_csv('dataset/labelled_test.csv')\n",
    "val_df = pd.read_csv('dataset/labelled_validation.csv')\n",
    "\n",
    "# View the first 5 rows of training set\n",
    "train_df.head()"
   ]
  },
  {
   "cell_type": "code",
   "execution_count": 8,
   "metadata": {},
   "outputs": [
    {
     "name": "stdout",
     "output_type": "stream",
     "text": [
      "Training Features Shape: torch.Size([763144, 7])\n",
      "Training Labels Shape: torch.Size([763144])\n",
      "Validation Features Shape: torch.Size([188967, 7])\n",
      "Validation Labels Shape: torch.Size([188967])\n",
      "Test Features Shape: torch.Size([188967, 7])\n",
      "Test Labels Shape: torch.Size([188967])\n"
     ]
    }
   ],
   "source": [
    "# Start coding here\n",
    "# Define Features and Labels for training, val, and test df\n",
    "X_train = train_df.drop(columns=['sus_label']).values \n",
    "y_train = train_df['sus_label'].values\n",
    "\n",
    "X_test = test_df.drop(columns=['sus_label']).values\n",
    "y_test = test_df['sus_label'].values\n",
    "\n",
    "X_val = val_df.drop(columns=['sus_label']).values\n",
    "y_val = val_df['sus_label'].values\n",
    "\n",
    "# Scaling Features \n",
    "scaler = StandardScaler()\n",
    "X_train = scaler.fit_transform(X_train)\n",
    "X_test = scaler.transform(X_test)\n",
    "X_val = scaler.transform(X_val)\n",
    "\n",
    "# Converting into PyTorch tensors \n",
    "X_train_tensor = torch.tensor(X_train, dtype=torch.float32)\n",
    "y_train_tensor = torch.tensor(y_train, dtype=torch.float32)\n",
    "\n",
    "X_test_tensor = torch.tensor(X_test, dtype=torch.float32)\n",
    "y_test_tensor = torch.tensor(y_test, dtype=torch.float32)\n",
    "\n",
    "X_val_tensor = torch.tensor(X_val, dtype=torch.float32)\n",
    "y_val_tensor = torch.tensor(y_val, dtype=torch.float32)\n",
    "\n",
    "print(\"Training Features Shape:\", X_train_tensor.shape)\n",
    "print(\"Training Labels Shape:\", y_train_tensor.shape)\n",
    "print(\"Validation Features Shape:\", X_val_tensor.shape)\n",
    "print(\"Validation Labels Shape:\", y_val_tensor.shape)\n",
    "print(\"Test Features Shape:\", X_test_tensor.shape)\n",
    "print(\"Test Labels Shape:\", y_test_tensor.shape)\n",
    " "
   ]
  },
  {
   "cell_type": "code",
   "execution_count": 9,
   "metadata": {},
   "outputs": [],
   "source": [
    "# Creating TensorDataset\n",
    "train_dataset = TensorDataset(X_train_tensor, y_train_tensor)\n",
    "val_dataset = TensorDataset(X_val_tensor, y_val_tensor)\n",
    "test_dataset = TensorDataset(X_test_tensor, y_test_tensor)\n",
    "\n",
    "# Create a dataloader using above dataset \n",
    "train_dataloader = DataLoader(train_dataset, shuffle=True, batch_size=64, num_workers=2)\n",
    "val_dataloader = DataLoader(val_dataset, shuffle=False, batch_size=64)\n",
    "test_dataloader = DataLoader(test_dataset, shuffle=False, batch_size=64)\n"
   ]
  },
  {
   "cell_type": "code",
   "execution_count": 10,
   "metadata": {},
   "outputs": [],
   "source": [
    "# Defining Neural Network \n",
    "input_size = X_train_tensor.shape[1]\n",
    "\n",
    "model = nn.Sequential(\n",
    "    nn.Linear(input_size, 32), \n",
    "    nn.ReLU(), \n",
    "    nn.Dropout(p=0.5),\n",
    "    nn.Linear(32, 16), \n",
    "    nn.ReLU(), \n",
    "    nn.Dropout(p=0.5),\n",
    "    nn.Linear(16, 1), \n",
    "    nn.Sigmoid() #for binary classification \n",
    ")\n"
   ]
  },
  {
   "cell_type": "code",
   "execution_count": 17,
   "metadata": {},
   "outputs": [
    {
     "name": "stdout",
     "output_type": "stream",
     "text": [
      "Training on: Quadro P1000\n"
     ]
    }
   ],
   "source": [
    "# Define the device (GPU or CPU)\n",
    "device = torch.device(\"cuda\" if torch.cuda.is_available() else \"cpu\")\n",
    "\n",
    "# Move the model to the device (GPU or CPU)\n",
    "model.to(device)\n",
    "# Show the device being used\n",
    "if device.type == 'cuda':\n",
    "    device_name = torch.cuda.get_device_name(device)\n",
    "    print(f\"Training on: {device_name}\")\n",
    "else:\n",
    "    print(\"Training on: CPU\")"
   ]
  },
  {
   "cell_type": "code",
   "execution_count": 18,
   "metadata": {},
   "outputs": [],
   "source": [
    "criterion = nn.BCELoss()\n",
    "optimizer = optim.Adam(model.parameters(), lr=0.001, weight_decay=1e-3)\n",
    "\n"
   ]
  },
  {
   "cell_type": "code",
   "execution_count": 21,
   "metadata": {},
   "outputs": [
    {
     "name": "stdout",
     "output_type": "stream",
     "text": [
      "Epoch [1/5], Loss: 0.004557683898252679\n",
      "Epoch [2/5], Loss: 0.004599323497865002\n",
      "Epoch [3/5], Loss: 0.004565871231076337\n",
      "Epoch [4/5], Loss: 0.0045929145017337145\n",
      "Epoch [5/5], Loss: 0.004528082815136573\n"
     ]
    }
   ],
   "source": [
    "import torch\n",
    "num_epochs = 5\n",
    "\n",
    "for epoch in range(num_epochs): \n",
    "    model.train()\n",
    "    running_loss = 0.0 \n",
    "\n",
    "    for features, labels in train_dataloader: \n",
    "\n",
    "        features, labels = features.to(device), labels.to(device)\n",
    "\n",
    "        optimizer.zero_grad()\n",
    "        outputs = model(features).view(-1)\n",
    "        loss = criterion(outputs, labels)\n",
    "        loss.backward()\n",
    "        optimizer.step()\n",
    "        running_loss += loss.item()\n",
    "        \n",
    "    # Add a print statement to monitor progress and potentially identify slow iterations\n",
    "    print(f\"Epoch [{epoch+1}/{num_epochs}], Loss: {running_loss/len(train_dataloader)}\")\n",
    "\n",
    "    # Add a break condition to handle KeyboardInterrupt gracefully\n",
    "    try:\n",
    "        pass\n",
    "    except KeyboardInterrupt:\n",
    "        print(\"Training interrupted. Exiting...\")\n",
    "        break "
   ]
  },
  {
   "cell_type": "code",
   "execution_count": 24,
   "metadata": {},
   "outputs": [
    {
     "name": "stdout",
     "output_type": "stream",
     "text": [
      "Training Accuracy: 0.9983\n",
      "Validation Accuracy: 0.9958\n",
      "Testing Accuracy: 0.0927\n"
     ]
    }
   ],
   "source": [
    "# Initialize torchmetrics Accuracy metric\n",
    "train_accuracy_metric = Accuracy(task='binary').to(device)\n",
    "val_accuracy_metric = Accuracy(task='binary').to(device)\n",
    "test_accuracy_metric = Accuracy(task='binary').to(device)\n",
    "\n",
    "# Function to calculate accuracy\n",
    "def calculate_accuracy(loader, model, accuracy_metric, device):\n",
    "    model.eval()\n",
    "    with torch.no_grad():\n",
    "        for features, labels in loader:\n",
    "\n",
    "            features, labels = features.to(device), labels.to(device)\n",
    "            outputs = model(features)\n",
    "            _, predicted = torch.max(outputs, 1)\n",
    "            accuracy_metric.update(predicted, labels)\n",
    "    return accuracy_metric.compute().item()\n",
    "\n",
    "# Calculate accuracy for training, validation, and testing datasets\n",
    "train_accuracy = calculate_accuracy(train_dataloader, model, train_accuracy_metric, device)\n",
    "val_accuracy = calculate_accuracy(val_dataloader, model, val_accuracy_metric, device)\n",
    "test_accuracy = calculate_accuracy(test_dataloader, model, test_accuracy_metric, device)\n",
    "\n",
    "print(f\"Training Accuracy: {train_accuracy:.4f}\")\n",
    "print(f\"Validation Accuracy: {val_accuracy:.4f}\")\n",
    "print(f\"Testing Accuracy: {test_accuracy:.4f}\")"
   ]
  }
 ],
 "metadata": {
  "kernelspec": {
   "display_name": "Python 3",
   "language": "python",
   "name": "python3"
  },
  "language_info": {
   "codemirror_mode": {
    "name": "ipython",
    "version": 3
   },
   "file_extension": ".py",
   "mimetype": "text/x-python",
   "name": "python",
   "nbconvert_exporter": "python",
   "pygments_lexer": "ipython3",
   "version": "3.12.7"
  }
 },
 "nbformat": 4,
 "nbformat_minor": 2
}
